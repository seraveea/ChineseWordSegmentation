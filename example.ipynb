{
 "cells": [
  {
   "cell_type": "code",
   "execution_count": 1,
   "metadata": {},
   "outputs": [],
   "source": [
    "from wordseg import WordSegment\n",
    "from wordseg import fliter_new\n",
    "from tqdm import tqdm\n",
    "import numpy as np\n",
    "f = open('news_0.txt','r')\n",
    "doc=f.read()"
   ]
  },
  {
   "cell_type": "code",
   "execution_count": 2,
   "metadata": {},
   "outputs": [],
   "source": [
    "p_dic = []\n",
    "f = open(\"dictionary.txt\", \"r\")\n",
    "for line in f.readlines():\n",
    "    line = line.strip('\\n')  #去掉列表中每一个元素的换行符\n",
    "    p_dic.append(line)"
   ]
  },
  {
   "cell_type": "code",
   "execution_count": 3,
   "metadata": {},
   "outputs": [
    {
     "name": "stderr",
     "output_type": "stream",
     "text": [
      "\r",
      "  0%|                                                                                        | 0/380.0 [00:00<?, ?it/s]"
     ]
    },
    {
     "name": "stdout",
     "output_type": "stream",
     "text": [
      "dic updated.\n"
     ]
    },
    {
     "name": "stderr",
     "output_type": "stream",
     "text": [
      "400it [05:28,  1.39it/s]                                                                                               "
     ]
    },
    {
     "name": "stdout",
     "output_type": "stream",
     "text": [
      "new word dictionary generated.\n"
     ]
    },
    {
     "data": {
      "text/plain": [
       "['做打车软件',\n",
       " '新能源',\n",
       " '个阶段',\n",
       " '帮他',\n",
       " '新能源汽车',\n",
       " '大黄蜂',\n",
       " '背后是',\n",
       " '能响',\n",
       " '上线',\n",
       " '是一个',\n",
       " '去做',\n",
       " '和快的',\n",
       " '软件上',\n",
       " '块钱',\n",
       " '滴滴出行',\n",
       " '应该是',\n",
       " '快的',\n",
       " '几年',\n",
       " '机器学习',\n",
       " '程维',\n",
       " '的道路',\n",
       " '智能手机',\n",
       " '线下',\n",
       " '了很多',\n",
       " '了一个',\n",
       " '外包',\n",
       " '就可以',\n",
       " '两个',\n",
       " '个司机',\n",
       " '不容易',\n",
       " '不懂',\n",
       " '也是一',\n",
       " '王兴',\n",
       " '滴滴',\n",
       " '天还',\n",
       " '滴滴团队',\n",
       " '百度',\n",
       " '天使投资人',\n",
       " '柳青',\n",
       " '阿里',\n",
       " '低门槛',\n",
       " '都是',\n",
       " '打车软件',\n",
       " '王刚',\n",
       " '而对',\n",
       " '商业模式',\n",
       " '到了',\n",
       " '腾讯',\n",
       " '最大的',\n",
       " '滴滴软件',\n",
       " '是最',\n",
       " '给你',\n",
       " '每个月',\n",
       " '让滴滴',\n",
       " '烧钱',\n",
       " '叶杰平',\n",
       " '并没有',\n",
       " '也曾',\n",
       " '两个月',\n",
       " '微信',\n",
       " '高管',\n",
       " '还是要',\n",
       " '第三',\n",
       " '也是',\n",
       " '就会']"
      ]
     },
     "execution_count": 3,
     "metadata": {},
     "output_type": "execute_result"
    }
   ],
   "source": [
    "f = open('news_0.txt','r')\n",
    "doc=f.read()\n",
    "sample = fliter_new.find_new(doc,p_dic)\n",
    "sample.get_new_words()"
   ]
  },
  {
   "cell_type": "code",
   "execution_count": 4,
   "metadata": {},
   "outputs": [],
   "source": [
    "f = open(\"new_word.txt\",'w')\n",
    "f.write('\\n'.join(sample.new_word))\n",
    "f.close()"
   ]
  }
 ],
 "metadata": {
  "kernelspec": {
   "display_name": "Python 3",
   "language": "python",
   "name": "python3"
  },
  "language_info": {
   "codemirror_mode": {
    "name": "ipython",
    "version": 3
   },
   "file_extension": ".py",
   "mimetype": "text/x-python",
   "name": "python",
   "nbconvert_exporter": "python",
   "pygments_lexer": "ipython3",
   "version": "3.7.1"
  }
 },
 "nbformat": 4,
 "nbformat_minor": 2
}
